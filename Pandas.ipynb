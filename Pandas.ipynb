{
 "cells": [
  {
   "cell_type": "markdown",
   "id": "4426bf7b-3ff4-48d5-bdd0-c2b44d59e1ef",
   "metadata": {},
   "source": [
    "# Pandas"
   ]
  },
  {
   "cell_type": "markdown",
   "id": "7c28eb2e-0d5a-4cfe-9b5b-1f41b1d62edf",
   "metadata": {},
   "source": [
    "## 1: Create 3 indexes with name, roll number, fees amount in a vector and print the data frame by taking values in indexes."
   ]
  },
  {
   "cell_type": "code",
   "execution_count": 17,
   "id": "71d28bcb-395d-4126-b16b-845d751c0b66",
   "metadata": {},
   "outputs": [
    {
     "name": "stdout",
     "output_type": "stream",
     "text": [
      "         Name  Roll Number  Fees Amount\n",
      "Index1   John          101         5000\n",
      "Index2  Alice          102         6000\n",
      "Index3    Bob          103         5500\n",
      "       0\n",
      "0   John\n",
      "1  Alice\n",
      "2    Bob\n",
      "     0\n",
      "0  101\n",
      "1  102\n",
      "2  103\n",
      "      0\n",
      "0  5000\n",
      "1  6000\n",
      "2  5500\n"
     ]
    }
   ],
   "source": [
    "import pandas as pd\n",
    "\n",
    "# Create data using a dictionary\n",
    "data = {\n",
    "    'Name': ['John', 'Alice', 'Bob'],\n",
    "    'Roll Number': [101, 102, 103],\n",
    "    'Fees Amount': [5000, 6000, 5500]\n",
    "}\n",
    "\n",
    "# Create a DataFrame using the data and set the specified indexes\n",
    "df = pd.DataFrame(data, index=['Index1', 'Index2', 'Index3'])\n",
    "\n",
    "# Print the DataFrame\n",
    "print(df)\n",
    "\n",
    "print(pd.DataFrame(data[\"Name\"]))\n",
    "print(pd.DataFrame(data[\"Roll Number\"]))\n",
    "print(pd.DataFrame(data[\"Fees Amount\"]))"
   ]
  },
  {
   "cell_type": "markdown",
   "id": "351c083b-9daf-4605-ba65-d97b199caefa",
   "metadata": {},
   "source": [
    "## 2: Read mba.csv file and just fetch the name and fees and print it with the help of data frame"
   ]
  },
  {
   "cell_type": "code",
   "execution_count": 18,
   "id": "0ae68cf4-81d9-41f8-99f1-2d118a7256b9",
   "metadata": {},
   "outputs": [
    {
     "data": {
      "text/html": [
       "<div>\n",
       "<style scoped>\n",
       "    .dataframe tbody tr th:only-of-type {\n",
       "        vertical-align: middle;\n",
       "    }\n",
       "\n",
       "    .dataframe tbody tr th {\n",
       "        vertical-align: top;\n",
       "    }\n",
       "\n",
       "    .dataframe thead th {\n",
       "        text-align: right;\n",
       "    }\n",
       "</style>\n",
       "<table border=\"1\" class=\"dataframe\">\n",
       "  <thead>\n",
       "    <tr style=\"text-align: right;\">\n",
       "      <th></th>\n",
       "      <th>name</th>\n",
       "      <th>fees</th>\n",
       "    </tr>\n",
       "  </thead>\n",
       "  <tbody>\n",
       "    <tr>\n",
       "      <th>0</th>\n",
       "      <td>tom</td>\n",
       "      <td>1000</td>\n",
       "    </tr>\n",
       "    <tr>\n",
       "      <th>1</th>\n",
       "      <td>bob</td>\n",
       "      <td>2000</td>\n",
       "    </tr>\n",
       "    <tr>\n",
       "      <th>2</th>\n",
       "      <td>joy</td>\n",
       "      <td>3000</td>\n",
       "    </tr>\n",
       "    <tr>\n",
       "      <th>3</th>\n",
       "      <td>marry</td>\n",
       "      <td>4000</td>\n",
       "    </tr>\n",
       "    <tr>\n",
       "      <th>4</th>\n",
       "      <td>josh</td>\n",
       "      <td>5000</td>\n",
       "    </tr>\n",
       "    <tr>\n",
       "      <th>5</th>\n",
       "      <td>sam</td>\n",
       "      <td>6000</td>\n",
       "    </tr>\n",
       "  </tbody>\n",
       "</table>\n",
       "</div>"
      ],
      "text/plain": [
       "    name  fees\n",
       "0    tom  1000\n",
       "1    bob  2000\n",
       "2    joy  3000\n",
       "3  marry  4000\n",
       "4   josh  5000\n",
       "5    sam  6000"
      ]
     },
     "execution_count": 18,
     "metadata": {},
     "output_type": "execute_result"
    }
   ],
   "source": [
    "import pandas as pd\n",
    "\n",
    "# Read the CSV file into a DataFrame\n",
    "df = pd.read_csv('mba.csv')\n",
    "\n",
    "pd.DataFrame(df)"
   ]
  },
  {
   "cell_type": "markdown",
   "id": "ba50788d-66d6-40ed-850f-4b4e27307438",
   "metadata": {},
   "source": [
    "## 3: Fetch your answer for question 2 with the help of Pandas Series."
   ]
  },
  {
   "cell_type": "code",
   "execution_count": 19,
   "id": "0e21beb8-f123-4e29-8260-b2d708446ff1",
   "metadata": {},
   "outputs": [
    {
     "name": "stdout",
     "output_type": "stream",
     "text": [
      "0      tom\n",
      "1      bob\n",
      "2      joy\n",
      "3    marry\n",
      "4     josh\n",
      "5      sam\n",
      "Name: name, dtype: object\n",
      "0    1000\n",
      "1    2000\n",
      "2    3000\n",
      "3    4000\n",
      "4    5000\n",
      "5    6000\n",
      "Name: fees, dtype: int64\n"
     ]
    }
   ],
   "source": [
    "import pandas as pd\n",
    "\n",
    "df = pd.read_csv(\"mba.csv\")\n",
    "\n",
    "# Fetch only the 'Name' and 'Fees' columns\n",
    "print(pd.Series(df['name']))\n",
    "print(pd.Series(df['fees']))"
   ]
  },
  {
   "cell_type": "markdown",
   "id": "0c5e5554-c2fc-46f2-90f4-527f8b961c85",
   "metadata": {},
   "source": [
    "## 4: Copy the data from csv file dirtydata.csv and replace all the null calories value to 120 and also try to change the null date format to a valid date."
   ]
  },
  {
   "cell_type": "code",
   "execution_count": 20,
   "id": "55d50132-0077-4138-bdd6-9681f833c406",
   "metadata": {},
   "outputs": [
    {
     "name": "stdout",
     "output_type": "stream",
     "text": [
      "    Duration         Date  Pulse  Maxpulse  Calories\n",
      "0         60  2020/12/01'    110       130     409.1\n",
      "1         60  2020/12/02'    117       145     479.0\n",
      "2         60  2020/12/03'    103       135     340.0\n",
      "3         45  2020/12/04'    109       175     282.4\n",
      "4         45  2020/12/05'    117       148     406.0\n",
      "5         60  2020/12/06'    102       127     300.0\n",
      "6         60  2020/12/07'    110       136     374.0\n",
      "7        450  2020/12/08'    104       134     253.3\n",
      "8         30  2020/12/09'    109       133     195.1\n",
      "9         60  2020/12/10'     98       124     269.0\n",
      "10        60  2020/12/11'    103       147     329.3\n",
      "11        60  2020/12/12'    100       120     250.7\n",
      "12        60  2020/12/12'    100       120     250.7\n",
      "13        60  2020/12/13'    106       128     345.3\n",
      "14        60  2020/12/14'    104       132     379.3\n",
      "15        60  2020/12/15'     98       123     275.0\n",
      "16        60  2020/12/16'     98       120     215.2\n",
      "17        60  2020/12/17'    100       120     300.0\n",
      "18        45  2020/12/18'     90       112       NaN\n",
      "19        60  2020/12/19'    103       123     323.0\n",
      "20        45  2020/12/20'     97       125     243.0\n",
      "21        60  2020/12/21'    108       131     364.2\n",
      "22        45          NaN    100       119     282.0\n",
      "23        60  2020/12/23'    130       101     300.0\n",
      "24        45  2020/12/24'    105       132     246.0\n",
      "25        60  2020/12/25'    102       126     334.5\n",
      "26        60     20201226    100       120     250.0\n",
      "27        60  2020/12/27'     92       118     241.0\n",
      "28        60  2020/12/28'    103       132       NaN\n",
      "29        60  2020/12/29'    100       132     280.0\n",
      "30        60  2020/12/30'    102       129     380.3\n",
      "31        60  2020/12/31'     92       115     243.0\n",
      "------------NaN change into 120 for calories-------------------\n",
      "    Duration         Date  Pulse  Maxpulse  Calories\n",
      "0         60  2020/12/01'    110       130     409.1\n",
      "1         60  2020/12/02'    117       145     479.0\n",
      "2         60  2020/12/03'    103       135     340.0\n",
      "3         45  2020/12/04'    109       175     282.4\n",
      "4         45  2020/12/05'    117       148     406.0\n",
      "5         60  2020/12/06'    102       127     300.0\n",
      "6         60  2020/12/07'    110       136     374.0\n",
      "7        450  2020/12/08'    104       134     253.3\n",
      "8         30  2020/12/09'    109       133     195.1\n",
      "9         60  2020/12/10'     98       124     269.0\n",
      "10        60  2020/12/11'    103       147     329.3\n",
      "11        60  2020/12/12'    100       120     250.7\n",
      "12        60  2020/12/12'    100       120     250.7\n",
      "13        60  2020/12/13'    106       128     345.3\n",
      "14        60  2020/12/14'    104       132     379.3\n",
      "15        60  2020/12/15'     98       123     275.0\n",
      "16        60  2020/12/16'     98       120     215.2\n",
      "17        60  2020/12/17'    100       120     300.0\n",
      "18        45  2020/12/18'     90       112     120.0\n",
      "19        60  2020/12/19'    103       123     323.0\n",
      "20        45  2020/12/20'     97       125     243.0\n",
      "21        60  2020/12/21'    108       131     364.2\n",
      "22        45          NaN    100       119     282.0\n",
      "23        60  2020/12/23'    130       101     300.0\n",
      "24        45  2020/12/24'    105       132     246.0\n",
      "25        60  2020/12/25'    102       126     334.5\n",
      "26        60     20201226    100       120     250.0\n",
      "27        60  2020/12/27'     92       118     241.0\n",
      "28        60  2020/12/28'    103       132     120.0\n",
      "29        60  2020/12/29'    100       132     280.0\n",
      "30        60  2020/12/30'    102       129     380.3\n",
      "31        60  2020/12/31'     92       115     243.0\n",
      "-------------change NaN into valid date for date---------------\n",
      "    Duration       Date  Pulse  Maxpulse  Calories\n",
      "0         60 2020-12-01    110       130     409.1\n",
      "1         60 2020-12-02    117       145     479.0\n",
      "2         60 2020-12-03    103       135     340.0\n",
      "3         45 2020-12-04    109       175     282.4\n",
      "4         45 2020-12-05    117       148     406.0\n",
      "5         60 2020-12-06    102       127     300.0\n",
      "6         60 2020-12-07    110       136     374.0\n",
      "7        450 2020-12-08    104       134     253.3\n",
      "8         30 2020-12-09    109       133     195.1\n",
      "9         60 2020-12-10     98       124     269.0\n",
      "10        60 2020-12-11    103       147     329.3\n",
      "11        60 2020-12-12    100       120     250.7\n",
      "12        60 2020-12-12    100       120     250.7\n",
      "13        60 2020-12-13    106       128     345.3\n",
      "14        60 2020-12-14    104       132     379.3\n",
      "15        60 2020-12-15     98       123     275.0\n",
      "16        60 2020-12-16     98       120     215.2\n",
      "17        60 2020-12-17    100       120     300.0\n",
      "18        45 2020-12-18     90       112     120.0\n",
      "19        60 2020-12-19    103       123     323.0\n",
      "20        45 2020-12-20     97       125     243.0\n",
      "21        60 2020-12-21    108       131     364.2\n",
      "22        45 2020-12-22    100       119     282.0\n",
      "23        60 2020-12-23    130       101     300.0\n",
      "24        45 2020-12-24    105       132     246.0\n",
      "25        60 2020-12-25    102       126     334.5\n",
      "26        60        NaT    100       120     250.0\n",
      "27        60 2020-12-27     92       118     241.0\n",
      "28        60 2020-12-28    103       132     120.0\n",
      "29        60 2020-12-29    100       132     280.0\n",
      "30        60 2020-12-30    102       129     380.3\n",
      "31        60 2020-12-31     92       115     243.0\n"
     ]
    }
   ],
   "source": [
    "df = pd.read_csv(\"dirtydata.csv\")\n",
    "print(df)\n",
    "\n",
    "df[\"Calories\"].fillna(120,inplace=True)\n",
    "print(\"------------NaN change into 120 for calories-------------------\")\n",
    "print(df)\n",
    "print('-------------change NaN into valid date for date---------------')\n",
    "df['Date'].fillna(\"2020/12/22'\",inplace=True)\n",
    "df['Date'] = pd.to_datetime(df['Date'], errors='coerce')\n",
    "print(df)"
   ]
  },
  {
   "cell_type": "markdown",
   "id": "67734e40-97e0-4ac2-bb7a-ff38f5f681be",
   "metadata": {},
   "source": [
    "## 5: Take a data frame df2 and replace all Na rows with the mode value for the column calories. Data set is dirty data."
   ]
  },
  {
   "cell_type": "code",
   "execution_count": 21,
   "id": "0c0d96f5-5d42-4ec3-903b-2684cc7ac493",
   "metadata": {},
   "outputs": [
    {
     "name": "stdout",
     "output_type": "stream",
     "text": [
      "    Duration         Date  Pulse  Maxpulse  Calories\n",
      "0         60  2020/12/01'    110       130     409.1\n",
      "1         60  2020/12/02'    117       145     479.0\n",
      "2         60  2020/12/03'    103       135     340.0\n",
      "3         45  2020/12/04'    109       175     282.4\n",
      "4         45  2020/12/05'    117       148     406.0\n",
      "5         60  2020/12/06'    102       127     300.0\n",
      "6         60  2020/12/07'    110       136     374.0\n",
      "7        450  2020/12/08'    104       134     253.3\n",
      "8         30  2020/12/09'    109       133     195.1\n",
      "9         60  2020/12/10'     98       124     269.0\n",
      "10        60  2020/12/11'    103       147     329.3\n",
      "11        60  2020/12/12'    100       120     250.7\n",
      "12        60  2020/12/12'    100       120     250.7\n",
      "13        60  2020/12/13'    106       128     345.3\n",
      "14        60  2020/12/14'    104       132     379.3\n",
      "15        60  2020/12/15'     98       123     275.0\n",
      "16        60  2020/12/16'     98       120     215.2\n",
      "17        60  2020/12/17'    100       120     300.0\n",
      "18        45  2020/12/18'     90       112     300.0\n",
      "19        60  2020/12/19'    103       123     323.0\n",
      "20        45  2020/12/20'     97       125     243.0\n",
      "21        60  2020/12/21'    108       131     364.2\n",
      "22        45          NaN    100       119     282.0\n",
      "23        60  2020/12/23'    130       101     300.0\n",
      "24        45  2020/12/24'    105       132     246.0\n",
      "25        60  2020/12/25'    102       126     334.5\n",
      "26        60     20201226    100       120     250.0\n",
      "27        60  2020/12/27'     92       118     241.0\n",
      "28        60  2020/12/28'    103       132     300.0\n",
      "29        60  2020/12/29'    100       132     280.0\n",
      "30        60  2020/12/30'    102       129     380.3\n",
      "31        60  2020/12/31'     92       115     243.0\n"
     ]
    }
   ],
   "source": [
    "df = pd.read_csv(\"dirtydata.csv\")\n",
    "df2 = df[\"Calories\"].fillna(df[\"Calories\"].mode()[0],inplace=True)\n",
    "print(df)"
   ]
  },
  {
   "cell_type": "markdown",
   "id": "22f15f2e-2400-4530-8c3a-fa329c9b770c",
   "metadata": {},
   "source": [
    "## 6: Take df2 and for all the index values for the column calories if it is > 250 replace the calorie value with 250."
   ]
  },
  {
   "cell_type": "code",
   "execution_count": 22,
   "id": "2e70e55e-8e8a-48ab-8ca2-d27264528873",
   "metadata": {},
   "outputs": [
    {
     "name": "stdout",
     "output_type": "stream",
     "text": [
      "    Duration         Date  Pulse  Maxpulse  Calories\n",
      "0         60  2020/12/01'    110       130     250.0\n",
      "1         60  2020/12/02'    117       145     250.0\n",
      "2         60  2020/12/03'    103       135     250.0\n",
      "3         45  2020/12/04'    109       175     250.0\n",
      "4         45  2020/12/05'    117       148     250.0\n",
      "5         60  2020/12/06'    102       127     250.0\n",
      "6         60  2020/12/07'    110       136     250.0\n",
      "7        450  2020/12/08'    104       134     250.0\n",
      "8         30  2020/12/09'    109       133     195.1\n",
      "9         60  2020/12/10'     98       124     250.0\n",
      "10        60  2020/12/11'    103       147     250.0\n",
      "11        60  2020/12/12'    100       120     250.0\n",
      "12        60  2020/12/12'    100       120     250.0\n",
      "13        60  2020/12/13'    106       128     250.0\n",
      "14        60  2020/12/14'    104       132     250.0\n",
      "15        60  2020/12/15'     98       123     250.0\n",
      "16        60  2020/12/16'     98       120     215.2\n",
      "17        60  2020/12/17'    100       120     250.0\n",
      "18        45  2020/12/18'     90       112       NaN\n",
      "19        60  2020/12/19'    103       123     250.0\n",
      "20        45  2020/12/20'     97       125     243.0\n",
      "21        60  2020/12/21'    108       131     250.0\n",
      "22        45          NaN    100       119     250.0\n",
      "23        60  2020/12/23'    130       101     250.0\n",
      "24        45  2020/12/24'    105       132     246.0\n",
      "25        60  2020/12/25'    102       126     250.0\n",
      "26        60     20201226    100       120     250.0\n",
      "27        60  2020/12/27'     92       118     241.0\n",
      "28        60  2020/12/28'    103       132       NaN\n",
      "29        60  2020/12/29'    100       132     250.0\n",
      "30        60  2020/12/30'    102       129     250.0\n",
      "31        60  2020/12/31'     92       115     243.0\n"
     ]
    }
   ],
   "source": [
    "df2 = pd.read_csv('dirtydata.csv')\n",
    "df2.loc[df2['Calories'] > 250, 'Calories'] = 250\n",
    "print(df2)"
   ]
  }
 ],
 "metadata": {
  "kernelspec": {
   "display_name": "Python 3 (ipykernel)",
   "language": "python",
   "name": "python3"
  },
  "language_info": {
   "codemirror_mode": {
    "name": "ipython",
    "version": 3
   },
   "file_extension": ".py",
   "mimetype": "text/x-python",
   "name": "python",
   "nbconvert_exporter": "python",
   "pygments_lexer": "ipython3",
   "version": "3.10.12"
  }
 },
 "nbformat": 4,
 "nbformat_minor": 5
}
