{
 "cells": [
  {
   "cell_type": "markdown",
   "id": "8bed7aac-f261-48f2-9c35-eb44430b933e",
   "metadata": {},
   "source": [
    "# Decision Tree"
   ]
  },
  {
   "cell_type": "markdown",
   "id": "84238c37-0fe2-4f0d-abfb-c65a4ac367ba",
   "metadata": {},
   "source": [
    "## 1. Take fruits.csv and perform classification based on Decision tree. What is the success rate?"
   ]
  },
  {
   "cell_type": "code",
   "execution_count": 11,
   "id": "ba31daf2-e6c4-4407-844a-6bc34e4bd3f9",
   "metadata": {},
   "outputs": [
    {
     "name": "stdout",
     "output_type": "stream",
     "text": [
      "    Index  Weight  size   Class\n",
      "0       0      69  4.39  orange\n",
      "1       1      68  4.21  orange\n",
      "2       2      65  4.28  orange\n",
      "3       3      72  5.85   apple\n",
      "4       4      67  4.74  orange\n",
      "5       5      73  5.50   apple\n",
      "6       6      70  5.65   apple\n",
      "7       7      75  5.85   apple\n",
      "8       8      74  5.90   apple\n",
      "9       9      65  4.80  orange\n",
      "10     10      73  5.50   apple\n",
      "11     11      70  5.30   apple\n",
      "12     12      74  5.50   apple\n",
      "13     13      68  4.80  orange\n",
      "14     14      74  5.75   apple\n",
      "15     15      75  5.85   apple\n",
      "16     16      64  4.90  orange\n",
      "17     17      67  4.80  orange\n",
      "18     18      65  4.75  orange\n",
      "19     19      66  4.80  orange\n",
      "Accuracy/sucess rate: 1.0\n"
     ]
    }
   ],
   "source": [
    "import pandas as pd\n",
    "from sklearn.model_selection import train_test_split\n",
    "from sklearn.tree import DecisionTreeClassifier\n",
    "from sklearn.metrics import accuracy_score\n",
    "data = pd.read_csv('fruits.csv')\n",
    "print(data)\n",
    "# Prepare data for modeling\n",
    "X = data[['Weight', 'size']] # Features\n",
    "y = data['Class'] # Target variable\n",
    "X_train, X_test, y_train, y_test = train_test_split(X, y, test_size=0.2, random_state=1)\n",
    "# 80% train, 20% test\n",
    "clf = DecisionTreeClassifier(random_state=1)# Initialize and trains the Decision Tree classifier\n",
    "clf.fit(X_train, y_train)# Trains the classifier using the training data\n",
    "y_pred = clf.predict(X_test)\n",
    "accuracy = accuracy_score(y_test, y_pred)\n",
    "print(\"Accuracy/sucess rate:\", accuracy)"
   ]
  },
  {
   "cell_type": "markdown",
   "id": "9c2ebd81-5bf2-4e3b-ad26-b2fc2028319e",
   "metadata": {},
   "source": [
    "#### using another apporach"
   ]
  },
  {
   "cell_type": "code",
   "execution_count": 10,
   "id": "92c2278e-580e-4bbe-b237-669bd7dc7f98",
   "metadata": {},
   "outputs": [
    {
     "name": "stdout",
     "output_type": "stream",
     "text": [
      "Results Using Entropy:\n",
      "Predicted values:\n",
      "[0 0 1 0 0 1]\n",
      "Accuracy:  1.0\n",
      "\n",
      "Results Using Gini:\n",
      "Predicted values:\n",
      "[0 0 1 0 0 1]\n",
      "Accuracy:  1.0\n"
     ]
    }
   ],
   "source": [
    "import pandas as pd \n",
    "from sklearn.metrics import confusion_matrix \n",
    "from sklearn.model_selection import train_test_split \n",
    "from sklearn.tree import DecisionTreeClassifier \n",
    "from sklearn.metrics import accuracy_score \n",
    "from sklearn.metrics import classification_report\n",
    "tip_df = pd.read_csv('fruits.csv')\n",
    "tip_df['Class'] = tip_df['Class'].map(dict(orange=0, apple=1)) \n",
    "tip_df.drop(['Index'], axis=1) \n",
    "X = tip_df.drop(['Class'],axis= 1) \n",
    "Y = tip_df['Class'] \n",
    "X_train, X_test, y_train, y_test = train_test_split(X,Y,test_size=0.3,random_state=100)\n",
    "\n",
    "def train_using_gini(X_train, X_test, y_train): \n",
    "    # Creating the classifier object \n",
    "    clf_gini = DecisionTreeClassifier(criterion=\"gini\",random_state=100, max_depth=3, min_samples_leaf=5) # Performing training \n",
    "    clf_gini.fit(X_train, y_train) \n",
    "    return clf_gini\n",
    "# Function to perform training with entropy.\n",
    "def train_using_entropy(X_train, X_test, y_train): \n",
    "    # Decision tree with entropy\n",
    "    clf_entropy = DecisionTreeClassifier(criterion=\"entropy\", random_state=100, max_depth=3, min_samples_leaf=5)\n",
    "    clf_entropy.fit(X_train,y_train) \n",
    "    return clf_entropy\n",
    "# Function to make predictions\n",
    "def prediction(X_test, clf_object):\n",
    "    # Predicton on test with giniIndex\n",
    "    y_pred = clf_object.predict(X_test)\n",
    "    print(\"Predicted values:\") \n",
    "    print(y_pred) \n",
    "    return y_pred\n",
    "\n",
    "clf_gini = train_using_gini(X_train, X_test, y_train) \n",
    "clf_entropy = train_using_entropy(X_train, X_test, y_train)\n",
    "    \n",
    "#Prediction using entropy\n",
    "print(\"Results Using Entropy:\")\n",
    "y_pred_entropy = prediction(X_test,clf_entropy) \n",
    "accuracy = accuracy_score(y_test, y_pred_entropy)\n",
    "print(\"Accuracy: \", accuracy)\n",
    "\n",
    "#Prediction using gini\n",
    "print(\"\\nResults Using Gini:\")\n",
    "y_pred_gini = prediction(X_test,clf_gini)\n",
    "accuracy = accuracy_score(y_test, y_pred_gini)\n",
    "print(\"Accuracy: \", accuracy)"
   ]
  },
  {
   "cell_type": "code",
   "execution_count": null,
   "id": "4f61de2d-dd63-4ce4-a64f-6d8359e00908",
   "metadata": {},
   "outputs": [],
   "source": []
  }
 ],
 "metadata": {
  "kernelspec": {
   "display_name": "Python 3 (ipykernel)",
   "language": "python",
   "name": "python3"
  },
  "language_info": {
   "codemirror_mode": {
    "name": "ipython",
    "version": 3
   },
   "file_extension": ".py",
   "mimetype": "text/x-python",
   "name": "python",
   "nbconvert_exporter": "python",
   "pygments_lexer": "ipython3",
   "version": "3.10.12"
  }
 },
 "nbformat": 4,
 "nbformat_minor": 5
}
