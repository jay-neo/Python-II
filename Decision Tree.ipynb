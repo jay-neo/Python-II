{
 "cells": [
  {
   "cell_type": "markdown",
   "id": "8bed7aac-f261-48f2-9c35-eb44430b933e",
   "metadata": {},
   "source": [
    "# Decision Tree"
   ]
  },
  {
   "cell_type": "markdown",
   "id": "84238c37-0fe2-4f0d-abfb-c65a4ac367ba",
   "metadata": {},
   "source": [
    "## 1. Take fruits.csv and perform classification based on Decision tree. What is the success rate?"
   ]
  },
  {
   "cell_type": "code",
   "execution_count": 7,
   "id": "e80f711d-9fdd-47ae-965a-7d5aaf47bd10",
   "metadata": {},
   "outputs": [
    {
     "name": "stdout",
     "output_type": "stream",
     "text": [
      "1.0\n"
     ]
    }
   ],
   "source": [
    "import pandas as pd\n",
    "from sklearn.tree import DecisionTreeClassifier\n",
    "from sklearn.preprocessing import LabelEncoder\n",
    "\n",
    "df=pd.read_csv(\"fruits.csv\")\n",
    "x=df[['Index','Weight','size']]\n",
    "y=df['Class']\n",
    "model=DecisionTreeClassifier()\n",
    "model.fit(x,y)\n",
    "print(model.score(x,y))"
   ]
  },
  {
   "cell_type": "markdown",
   "id": "9c2ebd81-5bf2-4e3b-ad26-b2fc2028319e",
   "metadata": {},
   "source": [
    "#### using another apporachs"
   ]
  },
  {
   "cell_type": "code",
   "execution_count": 8,
   "id": "1ef5cab6-bca2-4dda-898c-cd1d9dfe9930",
   "metadata": {},
   "outputs": [
    {
     "name": "stdout",
     "output_type": "stream",
     "text": [
      "    Index  Weight  size   Class\n",
      "0       0      69  4.39  orange\n",
      "1       1      68  4.21  orange\n",
      "2       2      65  4.28  orange\n",
      "3       3      72  5.85   apple\n",
      "4       4      67  4.74  orange\n",
      "5       5      73  5.50   apple\n",
      "6       6      70  5.65   apple\n",
      "7       7      75  5.85   apple\n",
      "8       8      74  5.90   apple\n",
      "9       9      65  4.80  orange\n",
      "10     10      73  5.50   apple\n",
      "11     11      70  5.30   apple\n",
      "12     12      74  5.50   apple\n",
      "13     13      68  4.80  orange\n",
      "14     14      74  5.75   apple\n",
      "15     15      75  5.85   apple\n",
      "16     16      64  4.90  orange\n",
      "17     17      67  4.80  orange\n",
      "18     18      65  4.75  orange\n",
      "19     19      66  4.80  orange\n",
      "Accuracy/sucess rate: 1.0\n"
     ]
    }
   ],
   "source": [
    "import pandas as pd\n",
    "from sklearn.model_selection import train_test_split\n",
    "from sklearn.tree import DecisionTreeClassifier\n",
    "from sklearn.metrics import accuracy_score\n",
    "data = pd.read_csv('fruits.csv')\n",
    "print(data)\n",
    "# Prepare data for modeling\n",
    "X = data[['Weight', 'size']] # Features\n",
    "y = data['Class'] # Target variable\n",
    "X_train, X_test, y_train, y_test = train_test_split(X, y, test_size=0.2, random_state=1)\n",
    "# 80% train, 20% test\n",
    "clf = DecisionTreeClassifier(random_state=1)# Initialize and trains the Decision Tree classifier\n",
    "clf.fit(X_train, y_train)# Trains the classifier using the training data\n",
    "y_pred = clf.predict(X_test)\n",
    "accuracy = accuracy_score(y_test, y_pred)\n",
    "print(\"Accuracy/sucess rate:\", accuracy)"
   ]
  },
  {
   "cell_type": "code",
   "execution_count": 9,
   "id": "4b688de2-974e-433b-b50a-6e7601048c81",
   "metadata": {},
   "outputs": [
    {
     "data": {
      "text/html": [
       "<style>#sk-container-id-2 {color: black;}#sk-container-id-2 pre{padding: 0;}#sk-container-id-2 div.sk-toggleable {background-color: white;}#sk-container-id-2 label.sk-toggleable__label {cursor: pointer;display: block;width: 100%;margin-bottom: 0;padding: 0.3em;box-sizing: border-box;text-align: center;}#sk-container-id-2 label.sk-toggleable__label-arrow:before {content: \"▸\";float: left;margin-right: 0.25em;color: #696969;}#sk-container-id-2 label.sk-toggleable__label-arrow:hover:before {color: black;}#sk-container-id-2 div.sk-estimator:hover label.sk-toggleable__label-arrow:before {color: black;}#sk-container-id-2 div.sk-toggleable__content {max-height: 0;max-width: 0;overflow: hidden;text-align: left;background-color: #f0f8ff;}#sk-container-id-2 div.sk-toggleable__content pre {margin: 0.2em;color: black;border-radius: 0.25em;background-color: #f0f8ff;}#sk-container-id-2 input.sk-toggleable__control:checked~div.sk-toggleable__content {max-height: 200px;max-width: 100%;overflow: auto;}#sk-container-id-2 input.sk-toggleable__control:checked~label.sk-toggleable__label-arrow:before {content: \"▾\";}#sk-container-id-2 div.sk-estimator input.sk-toggleable__control:checked~label.sk-toggleable__label {background-color: #d4ebff;}#sk-container-id-2 div.sk-label input.sk-toggleable__control:checked~label.sk-toggleable__label {background-color: #d4ebff;}#sk-container-id-2 input.sk-hidden--visually {border: 0;clip: rect(1px 1px 1px 1px);clip: rect(1px, 1px, 1px, 1px);height: 1px;margin: -1px;overflow: hidden;padding: 0;position: absolute;width: 1px;}#sk-container-id-2 div.sk-estimator {font-family: monospace;background-color: #f0f8ff;border: 1px dotted black;border-radius: 0.25em;box-sizing: border-box;margin-bottom: 0.5em;}#sk-container-id-2 div.sk-estimator:hover {background-color: #d4ebff;}#sk-container-id-2 div.sk-parallel-item::after {content: \"\";width: 100%;border-bottom: 1px solid gray;flex-grow: 1;}#sk-container-id-2 div.sk-label:hover label.sk-toggleable__label {background-color: #d4ebff;}#sk-container-id-2 div.sk-serial::before {content: \"\";position: absolute;border-left: 1px solid gray;box-sizing: border-box;top: 0;bottom: 0;left: 50%;z-index: 0;}#sk-container-id-2 div.sk-serial {display: flex;flex-direction: column;align-items: center;background-color: white;padding-right: 0.2em;padding-left: 0.2em;position: relative;}#sk-container-id-2 div.sk-item {position: relative;z-index: 1;}#sk-container-id-2 div.sk-parallel {display: flex;align-items: stretch;justify-content: center;background-color: white;position: relative;}#sk-container-id-2 div.sk-item::before, #sk-container-id-2 div.sk-parallel-item::before {content: \"\";position: absolute;border-left: 1px solid gray;box-sizing: border-box;top: 0;bottom: 0;left: 50%;z-index: -1;}#sk-container-id-2 div.sk-parallel-item {display: flex;flex-direction: column;z-index: 1;position: relative;background-color: white;}#sk-container-id-2 div.sk-parallel-item:first-child::after {align-self: flex-end;width: 50%;}#sk-container-id-2 div.sk-parallel-item:last-child::after {align-self: flex-start;width: 50%;}#sk-container-id-2 div.sk-parallel-item:only-child::after {width: 0;}#sk-container-id-2 div.sk-dashed-wrapped {border: 1px dashed gray;margin: 0 0.4em 0.5em 0.4em;box-sizing: border-box;padding-bottom: 0.4em;background-color: white;}#sk-container-id-2 div.sk-label label {font-family: monospace;font-weight: bold;display: inline-block;line-height: 1.2em;}#sk-container-id-2 div.sk-label-container {text-align: center;}#sk-container-id-2 div.sk-container {/* jupyter's `normalize.less` sets `[hidden] { display: none; }` but bootstrap.min.css set `[hidden] { display: none !important; }` so we also need the `!important` here to be able to override the default hidden behavior on the sphinx rendered scikit-learn.org. See: https://github.com/scikit-learn/scikit-learn/issues/21755 */display: inline-block !important;position: relative;}#sk-container-id-2 div.sk-text-repr-fallback {display: none;}</style><div id=\"sk-container-id-2\" class=\"sk-top-container\"><div class=\"sk-text-repr-fallback\"><pre>DecisionTreeClassifier(criterion=&#x27;entropy&#x27;, random_state=1)</pre><b>In a Jupyter environment, please rerun this cell to show the HTML representation or trust the notebook. <br />On GitHub, the HTML representation is unable to render, please try loading this page with nbviewer.org.</b></div><div class=\"sk-container\" hidden><div class=\"sk-item\"><div class=\"sk-estimator sk-toggleable\"><input class=\"sk-toggleable__control sk-hidden--visually\" id=\"sk-estimator-id-2\" type=\"checkbox\" checked><label for=\"sk-estimator-id-2\" class=\"sk-toggleable__label sk-toggleable__label-arrow\">DecisionTreeClassifier</label><div class=\"sk-toggleable__content\"><pre>DecisionTreeClassifier(criterion=&#x27;entropy&#x27;, random_state=1)</pre></div></div></div></div></div>"
      ],
      "text/plain": [
       "DecisionTreeClassifier(criterion='entropy', random_state=1)"
      ]
     },
     "execution_count": 9,
     "metadata": {},
     "output_type": "execute_result"
    }
   ],
   "source": [
    "import pandas as pd\n",
    "from sklearn.metrics import confusion_matrix\n",
    "from sklearn.model_selection import train_test_split\n",
    "from sklearn.tree import DecisionTreeClassifier\n",
    "from sklearn.metrics import accuracy_score\n",
    "from sklearn.metrics import classification_report\n",
    "tip_df = pd.read_csv('fruits.csv')\n",
    "tip_df['Class'] = tip_df['Class'].map(dict(orange=0, apple=1))\n",
    "tip_df=tip_df.drop(['Index'], axis=1)\n",
    "X = tip_df.drop(['Class'],axis= 1)\n",
    "Y = tip_df['Class']\n",
    "X_train, X_test, y_train, y_test = train_test_split(X,Y,test_size=0.3,random_state=100)\n",
    "clf=DecisionTreeClassifier(criterion=\"entropy\",random_state=1)\n",
    "clf.fit(X_train,y_train)"
   ]
  },
  {
   "cell_type": "code",
   "execution_count": 10,
   "id": "92c2278e-580e-4bbe-b237-669bd7dc7f98",
   "metadata": {},
   "outputs": [
    {
     "name": "stdout",
     "output_type": "stream",
     "text": [
      "Results Using Entropy:\n",
      "Predicted values:\n",
      "[0 0 1 0 0 1]\n",
      "Accuracy:  1.0\n",
      "\n",
      "Results Using Gini:\n",
      "Predicted values:\n",
      "[0 0 1 0 0 1]\n",
      "Accuracy:  1.0\n"
     ]
    }
   ],
   "source": [
    "import pandas as pd \n",
    "from sklearn.metrics import confusion_matrix \n",
    "from sklearn.model_selection import train_test_split \n",
    "from sklearn.tree import DecisionTreeClassifier \n",
    "from sklearn.metrics import accuracy_score \n",
    "from sklearn.metrics import classification_report\n",
    "tip_df = pd.read_csv('fruits.csv')\n",
    "tip_df['Class'] = tip_df['Class'].map(dict(orange=0, apple=1)) \n",
    "tip_df.drop(['Index'], axis=1) \n",
    "X = tip_df.drop(['Class'],axis= 1) \n",
    "Y = tip_df['Class'] \n",
    "X_train, X_test, y_train, y_test = train_test_split(X,Y,test_size=0.3,random_state=100)\n",
    "\n",
    "def train_using_gini(X_train, X_test, y_train): \n",
    "    # Creating the classifier object \n",
    "    clf_gini = DecisionTreeClassifier(criterion=\"gini\",random_state=100, max_depth=3, min_samples_leaf=5) # Performing training \n",
    "    clf_gini.fit(X_train, y_train) \n",
    "    return clf_gini\n",
    "# Function to perform training with entropy.\n",
    "def train_using_entropy(X_train, X_test, y_train): \n",
    "    # Decision tree with entropy\n",
    "    clf_entropy = DecisionTreeClassifier(criterion=\"entropy\", random_state=100, max_depth=3, min_samples_leaf=5)\n",
    "    clf_entropy.fit(X_train,y_train) \n",
    "    return clf_entropy\n",
    "# Function to make predictions\n",
    "def prediction(X_test, clf_object):\n",
    "    # Predicton on test with giniIndex\n",
    "    y_pred = clf_object.predict(X_test)\n",
    "    print(\"Predicted values:\") \n",
    "    print(y_pred) \n",
    "    return y_pred\n",
    "\n",
    "clf_gini = train_using_gini(X_train, X_test, y_train) \n",
    "clf_entropy = train_using_entropy(X_train, X_test, y_train)\n",
    "    \n",
    "#Prediction using entropy\n",
    "print(\"Results Using Entropy:\")\n",
    "y_pred_entropy = prediction(X_test,clf_entropy) \n",
    "accuracy = accuracy_score(y_test, y_pred_entropy)\n",
    "print(\"Accuracy: \", accuracy)\n",
    "\n",
    "#Prediction using gini\n",
    "print(\"\\nResults Using Gini:\")\n",
    "y_pred_gini = prediction(X_test,clf_gini)\n",
    "accuracy = accuracy_score(y_test, y_pred_gini)\n",
    "print(\"Accuracy: \", accuracy)"
   ]
  }
 ],
 "metadata": {
  "kernelspec": {
   "display_name": "Python 3 (ipykernel)",
   "language": "python",
   "name": "python3"
  },
  "language_info": {
   "codemirror_mode": {
    "name": "ipython",
    "version": 3
   },
   "file_extension": ".py",
   "mimetype": "text/x-python",
   "name": "python",
   "nbconvert_exporter": "python",
   "pygments_lexer": "ipython3",
   "version": "3.10.12"
  }
 },
 "nbformat": 4,
 "nbformat_minor": 5
}
