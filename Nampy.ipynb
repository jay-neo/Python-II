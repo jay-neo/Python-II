{
 "cells": [
  {
   "cell_type": "markdown",
   "metadata": {},
   "source": [
    "# Numpy"
   ]
  },
  {
   "cell_type": "markdown",
   "metadata": {},
   "source": [
    "## 1: Take a 3x3 matrix randomly and another matrix by assigning elements. Now add the 2 matrix and store it in a seperate matrix C"
   ]
  },
  {
   "cell_type": "code",
   "execution_count": 1,
   "metadata": {},
   "outputs": [
    {
     "name": "stdout",
     "output_type": "stream",
     "text": [
      "[[2 6 1]\n",
      " [1 0 8]\n",
      " [0 3 8]]\n",
      "[[ 3  8  4]\n",
      " [ 5  5 14]\n",
      " [ 7 11 17]]\n"
     ]
    }
   ],
   "source": [
    "import numpy as np\n",
    "a=np.random.randint(0,10,9).reshape(3,3)\n",
    "print(a)\n",
    "b=[[1,2,3],[4,5,6],[7,8,9]]\n",
    "c=np.add(a,b)\n",
    "print(c)"
   ]
  },
  {
   "cell_type": "markdown",
   "metadata": {},
   "source": [
    "## 2: Take 3X3 matrixes add it with another 3x3 of all 1 matrix and convert that to a complex data type matrix."
   ]
  },
  {
   "cell_type": "code",
   "execution_count": 2,
   "metadata": {},
   "outputs": [
    {
     "name": "stdout",
     "output_type": "stream",
     "text": [
      "[[ 2.+0.j  3.+0.j  4.+0.j]\n",
      " [ 5.+0.j  6.+0.j  7.+0.j]\n",
      " [ 8.+0.j  9.+0.j 10.+0.j]]\n"
     ]
    }
   ],
   "source": [
    "import numpy as np\n",
    "a=[[1,2,3],[4,5,6],[7,8,9]]\n",
    "b=np.ones(9).reshape(3,3)\n",
    "c=np.add(a,b,dtype=complex)\n",
    "print(c)"
   ]
  },
  {
   "cell_type": "markdown",
   "metadata": {},
   "source": [
    "## 3: Take a 3X3 matrix and multiply element wise with 3X 3 another matrix."
   ]
  },
  {
   "cell_type": "code",
   "execution_count": 3,
   "metadata": {},
   "outputs": [
    {
     "name": "stdout",
     "output_type": "stream",
     "text": [
      "[[ 1  4  9]\n",
      " [16 25 36]\n",
      " [49 64 81]]\n"
     ]
    }
   ],
   "source": [
    "import numpy as np\n",
    "a=[[1,2,3],[4,5,6],[7,8,9]]\n",
    "b=[[1,2,3],[4,5,6],[7,8,9]]\n",
    "c=np.multiply(a,b)\n",
    "print(c)"
   ]
  },
  {
   "cell_type": "markdown",
   "metadata": {},
   "source": [
    "## 4: Multiply 2 3X3 matrixes."
   ]
  },
  {
   "cell_type": "code",
   "execution_count": 4,
   "metadata": {},
   "outputs": [
    {
     "name": "stdout",
     "output_type": "stream",
     "text": [
      "[[3 2 8]\n",
      " [0 9 2]\n",
      " [0 0 3]]\n",
      "[[9 7 2]\n",
      " [0 7 7]\n",
      " [6 5 7]]\n",
      "[[75 75 76]\n",
      " [12 73 77]\n",
      " [18 15 21]]\n"
     ]
    }
   ],
   "source": [
    "import numpy as np\n",
    "a=np.random.randint(0,10,9).reshape(3,3)\n",
    "print(a)\n",
    "b=np.random.randint(0,10,9).reshape(3,3)\n",
    "print(b)\n",
    "c=np.zeros(9,dtype='int').reshape(3,3)\n",
    "for i in range(3):\n",
    "    for j in range(3):\n",
    "        sum=0\n",
    "        for k in range(3):\n",
    "            sum=sum+a[i,k]*b[k,j]\n",
    "        c[i,j]=sum\n",
    "print(c)"
   ]
  },
  {
   "cell_type": "markdown",
   "metadata": {},
   "source": [
    "## 5: Randomly generate 10 numbers in between 1 to 10 and convert that to a 5X2 matrix. Take a floating-point matrix and perform the addition. a= floating point matrix and b is an integer matrix of same dimension. Why a+=b is not equal to b+=a. Explain briefly. How can we resolve this problem?"
   ]
  },
  {
   "cell_type": "code",
   "execution_count": 5,
   "metadata": {},
   "outputs": [
    {
     "name": "stdout",
     "output_type": "stream",
     "text": [
      "[[6 2]\n",
      " [1 9]\n",
      " [8 2]\n",
      " [4 8]\n",
      " [5 8]]\n",
      "[[3.61965338 9.50695372]\n",
      " [9.91779789 5.32555223]\n",
      " [4.14415864 2.07394711]\n",
      " [5.99570755 1.2330204 ]\n",
      " [7.50260628 9.54356408]]\n",
      "[[ 9.61965338 11.50695372]\n",
      " [10.91779789 14.32555223]\n",
      " [12.14415864  4.07394711]\n",
      " [ 9.99570755  9.2330204 ]\n",
      " [12.50260628 17.54356408]]\n"
     ]
    }
   ],
   "source": [
    "import numpy as np\n",
    "a=np.random.randint(1,10,10,dtype='int').reshape(5,2)\n",
    "print(a)\n",
    "b=np.random.uniform(1,10,10).reshape(5,2)\n",
    "print(b)\n",
    "a=a+b\n",
    "print(a)"
   ]
  },
  {
   "cell_type": "markdown",
   "metadata": {},
   "source": [
    "## 6: Take a multidimensional array (3, 3, 3) and print the last column."
   ]
  },
  {
   "cell_type": "code",
   "execution_count": 6,
   "metadata": {},
   "outputs": [
    {
     "name": "stdout",
     "output_type": "stream",
     "text": [
      "[[[4 7 1]\n",
      "  [5 2 3]\n",
      "  [8 0 5]]\n",
      "\n",
      " [[7 1 8]\n",
      "  [5 9 8]\n",
      "  [6 3 1]]\n",
      "\n",
      " [[0 7 6]\n",
      "  [0 7 3]\n",
      "  [0 3 1]]]\n",
      "[[[1]\n",
      "  [3]\n",
      "  [5]]\n",
      "\n",
      " [[8]\n",
      "  [8]\n",
      "  [1]]\n",
      "\n",
      " [[6]\n",
      "  [3]\n",
      "  [1]]]\n"
     ]
    }
   ],
   "source": [
    "import numpy as np\n",
    "a=np.random.randint(0,10,27).reshape(3,3,3)\n",
    "print(a)\n",
    "b=a[:,:,2:]\n",
    "print(b)"
   ]
  },
  {
   "cell_type": "markdown",
   "metadata": {},
   "source": [
    "## 7: Take a function f(x) =x^3 + 5*y +4*z and determine the values and store them in a (3,3,3) matrix."
   ]
  },
  {
   "cell_type": "code",
   "execution_count": 7,
   "metadata": {},
   "outputs": [
    {
     "name": "stdout",
     "output_type": "stream",
     "text": [
      "[[[ 0  4  8]\n",
      "  [ 5  9 13]\n",
      "  [10 14 18]]\n",
      "\n",
      " [[ 1  5  9]\n",
      "  [ 6 10 14]\n",
      "  [11 15 19]]\n",
      "\n",
      " [[ 8 12 16]\n",
      "  [13 17 21]\n",
      "  [18 22 26]]]\n"
     ]
    }
   ],
   "source": [
    "import numpy as np\n",
    "def c(x,y,z):\n",
    "    return x**3+5*y+4*z\n",
    "b=np.fromfunction(c,(3,3,3),dtype=int)\n",
    "print(b)"
   ]
  },
  {
   "cell_type": "markdown",
   "metadata": {},
   "source": [
    "## 8: Using axis add the column values of a 3X3 matrix and then add it with the maximum values of rows taken in a  3x3 matrix."
   ]
  },
  {
   "cell_type": "code",
   "execution_count": 8,
   "metadata": {},
   "outputs": [
    {
     "name": "stdout",
     "output_type": "stream",
     "text": [
      "[[[ 0  4  8]\n",
      "  [ 5  9 13]\n",
      "  [10 14 18]]\n",
      "\n",
      " [[ 1  5  9]\n",
      "  [ 6 10 14]\n",
      "  [11 15 19]]\n",
      "\n",
      " [[ 8 12 16]\n",
      "  [13 17 21]\n",
      "  [18 22 26]]]\n"
     ]
    }
   ],
   "source": [
    "import numpy as np\n",
    "def c(x,y,z):\n",
    "    return x**3+5*y+4*z\n",
    "b=np.fromfunction(c,(3,3,3),dtype=int)\n",
    "print(b)"
   ]
  },
  {
   "cell_type": "markdown",
   "metadata": {},
   "source": [
    "## 9: f(x) = x^3 + 5y and store it in (3,3) matrix."
   ]
  },
  {
   "cell_type": "code",
   "execution_count": 9,
   "metadata": {},
   "outputs": [
    {
     "name": "stdout",
     "output_type": "stream",
     "text": [
      "[[ 0  5 10]\n",
      " [ 1  6 11]\n",
      " [ 8 13 18]]\n"
     ]
    }
   ],
   "source": [
    "import numpy as np\n",
    "def c(x,y):\n",
    "    return x**3+5*y\n",
    "b=np.fromfunction(c,(3,3),dtype=int)\n",
    "print(b)"
   ]
  },
  {
   "cell_type": "markdown",
   "metadata": {},
   "source": [
    "## 10: Take a function array 'a' cube with a range of 20 and find out what will be the value of a [[7,8], [9,11]]. If we take values a [[7, 8], [9, 21]] will it take if not why?"
   ]
  },
  {
   "cell_type": "code",
   "execution_count": 10,
   "metadata": {},
   "outputs": [
    {
     "name": "stdout",
     "output_type": "stream",
     "text": [
      "[[125, 216], [729, 64]]\n"
     ]
    }
   ],
   "source": [
    "import numpy as np\n",
    "def cube(arr):\n",
    "    for i in range(len(arr)):\n",
    "        for j in range(len(arr[0])):\n",
    "            arr[i][j]=arr[i][j]**3\n",
    "    return arr\n",
    "arr=[[5,6],[9,4]]\n",
    "print(cube(arr))"
   ]
  },
  {
   "cell_type": "markdown",
   "metadata": {},
   "source": [
    "## 11: Take a random number from 0 to 19 and make a 4X5 matrix then find the values of (i) 3rd row and 4th column only and (ii) only 4th column values."
   ]
  },
  {
   "cell_type": "code",
   "execution_count": 11,
   "metadata": {},
   "outputs": [
    {
     "name": "stdout",
     "output_type": "stream",
     "text": [
      "[[ 0  1  2  3  4]\n",
      " [ 5  6  7  8  9]\n",
      " [10 11 12 13 14]\n",
      " [15 16 17 18 19]]\n",
      "13\n",
      "[ 3  8 13 18]\n"
     ]
    }
   ],
   "source": [
    "import numpy as np\n",
    "a=np.arange(20).reshape(4,5)\n",
    "print(a)\n",
    "print(a[2,3])\n",
    "print(a[:,3])"
   ]
  },
  {
   "cell_type": "markdown",
   "metadata": {},
   "source": [
    "## 12: Take a matrix of 5X4 randomly and create 2 3x3 values i and j respectively and take a tuple named m with i and j as an argument and generate the values of the matrix for the specified tuple. i<=4 and j<=3."
   ]
  },
  {
   "cell_type": "code",
   "execution_count": 12,
   "metadata": {},
   "outputs": [
    {
     "name": "stdout",
     "output_type": "stream",
     "text": [
      "[[ 0  1  2  3]\n",
      " [ 4  5  6  7]\n",
      " [ 8  9 10 11]\n",
      " [12 13 14 15]\n",
      " [16 17 18 19]]\n",
      "Generated values by specific tuple\n",
      "[[ 2  5  8]\n",
      " [ 7  9 14]\n",
      " [ 9 13 17]]\n"
     ]
    }
   ],
   "source": [
    "import numpy as np\n",
    "a=np.arange(20).reshape(5,4)\n",
    "print(a)\n",
    "i=np.array([[0,1,2],[1,2,3],[2,3,4]])\n",
    "j=np.array([[2,1,0],[3,1,2],[1,1,1]])\n",
    "m=(i,j)\n",
    "print(\"Generated values by specific tuple\")\n",
    "print(a[m])"
   ]
  },
  {
   "cell_type": "markdown",
   "metadata": {},
   "source": [
    "## 13: Take a matrix of 3x3 and find out the Eigen vector and Eigen values of that matrix. 14. Take a matrix and by taking the i, j or x, y values implement the hstack and vstack methods."
   ]
  },
  {
   "cell_type": "code",
   "execution_count": 13,
   "metadata": {},
   "outputs": [
    {
     "name": "stdout",
     "output_type": "stream",
     "text": [
      "EigResult(eigenvalues=array([ 1.33484692e+01, -1.34846923e+00, -2.48477279e-16]), eigenvectors=array([[ 0.16476382,  0.79969966,  0.40824829],\n",
      "       [ 0.50577448,  0.10420579, -0.81649658],\n",
      "       [ 0.84678513, -0.59128809,  0.40824829]]))\n"
     ]
    }
   ],
   "source": [
    "import numpy as np\n",
    "a=np.arange(9).reshape(3,3)\n",
    "print(np.linalg.eig(a))"
   ]
  },
  {
   "cell_type": "markdown",
   "metadata": {},
   "source": [
    "## 14: Take a matrix and by taking the i,j or x,y values implement the hstack and vstack methods."
   ]
  },
  {
   "cell_type": "code",
   "execution_count": 14,
   "metadata": {},
   "outputs": [
    {
     "name": "stdout",
     "output_type": "stream",
     "text": [
      "[[0 2 4 6 8]\n",
      " [1 3 5 7 9]]\n",
      "[0 2 4 6 8 1 3 5 7 9]\n"
     ]
    }
   ],
   "source": [
    "x=np.arange(0,10,2)\n",
    "x\n",
    "y=np.arange(1,10,2)\n",
    "y\n",
    "xy=np.vstack([x,y])\n",
    "print(xy)\n",
    "xoy=np.hstack([x,y])\n",
    "print(xoy)"
   ]
  }
 ],
 "metadata": {
  "kernelspec": {
   "display_name": "Python 3 (ipykernel)",
   "language": "python",
   "name": "python3"
  },
  "language_info": {
   "codemirror_mode": {
    "name": "ipython",
    "version": 3
   },
   "file_extension": ".py",
   "mimetype": "text/x-python",
   "name": "python",
   "nbconvert_exporter": "python",
   "pygments_lexer": "ipython3",
   "version": "3.10.12"
  }
 },
 "nbformat": 4,
 "nbformat_minor": 4
}
